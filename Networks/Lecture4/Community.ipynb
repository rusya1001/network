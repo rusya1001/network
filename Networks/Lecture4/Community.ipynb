{
 "cells": [
  {
   "cell_type": "markdown",
   "metadata": {},
   "source": [
    "Снова начнем с загрузки графа."
   ]
  },
  {
   "cell_type": "code",
   "execution_count": null,
   "metadata": {},
   "outputs": [],
   "source": [
    "import json\n",
    "full_friends = json.load(open(\"nodes.txt\", \"tr\"))\n",
    "full_graph = json.load(open(\"edges.txt\", \"tr\"))\n",
    "import networkx as nx\n",
    "G = nx.Graph()\n",
    "for i in full_friends[\"items\"]:\n",
    "    G.add_node(i[\"id\"], name = i[\"first_name\"]+\" \"+i[\"last_name\"], sex = i[\"sex\"])\n",
    "my_friends = list(nx.nodes(G))\n",
    "for i in my_friends:\n",
    "    if \"items\" in full_graph[str(i)]:\n",
    "        for j in full_graph[str(i)][\"items\"]:\n",
    "            if j in my_friends:\n",
    "                G.add_edge(i, j)\n",
    "\n"
   ]
  },
  {
   "cell_type": "markdown",
   "metadata": {},
   "source": [
    "Немного изменим функцию отрисовки графа."
   ]
  },
  {
   "cell_type": "code",
   "execution_count": null,
   "metadata": {},
   "outputs": [],
   "source": [
    "%matplotlib inline\n",
    "import matplotlib.pyplot as plt\n",
    "def plot_graph(g, coloring = [], palette = plt.cm.Set2):\n",
    "    with plt.xkcd():\n",
    "        k = nx.degree(g)\n",
    "        plt.figure(1, figsize=(60,45))\n",
    "        coord = nx.kamada_kawai_layout(g)\n",
    "        labels={nd: g.node[nd]['name'] for (nd) in g.nodes()}\n",
    "        if len(coloring)>0:\n",
    "            nx.draw_networkx(g, pos=coord, nodelist=dict(k).keys(), node_size=[v*50 for v in dict(k).values()], \n",
    "                         font_size=17, node_color=coloring, labels=labels, cmap=palette)\n",
    "        else:\n",
    "            nx.draw_networkx(g, pos=coord, nodelist=dict(k).keys(), node_size=[v*50 for v in dict(k).values()], \n",
    "                         font_size=17, labels=labels)\n",
    "            "
   ]
  },
  {
   "cell_type": "markdown",
   "metadata": {},
   "source": [
    "Для начала оставим только самую большую компоненту связности."
   ]
  },
  {
   "cell_type": "code",
   "execution_count": null,
   "metadata": {},
   "outputs": [],
   "source": [
    "largest_cc = max(nx.connected_components(G), key=len)\n",
    "Gmain = G.subgraph(largest_cc)\n",
    "plot_graph(Gmain)"
   ]
  },
  {
   "cell_type": "markdown",
   "metadata": {},
   "source": [
    "Начнем с задачи бисекции графа. Задача состоит в том, чтобы разделить граф на две части, так чтобы минимизировать число связей между этими частями. Очевидно, что полный перебор всех разделений неэффективен.\n",
    "\n",
    "Пусть у нас уже есть две компоненты, давайте рассмотрим все возможные пары вершин и посмотрим, станит ли разделение лучше, если мы поменяем две вершины местами. Такой алгоритм называется алгоритм Кернигана-Лина. Он может быть обобщен и более чем на две компоненты."
   ]
  },
  {
   "cell_type": "code",
   "execution_count": null,
   "metadata": {},
   "outputs": [],
   "source": [
    "from networkx.algorithms import community\n",
    "TwoParts = community.kernighan_lin_bisection(Gmain)\n",
    "coloring = [0 if x in TwoParts[0] else 1 for x in Gmain.nodes]"
   ]
  },
  {
   "cell_type": "code",
   "execution_count": null,
   "metadata": {},
   "outputs": [],
   "source": [
    "plot_graph(Gmain, coloring)"
   ]
  },
  {
   "cell_type": "markdown",
   "metadata": {},
   "source": [
    "По умолчанию граф делится на две равные части. Давайте предложим ему альтернативное начальное разделение и посмотрим сможет ли алгоритм что-то сделать. "
   ]
  },
  {
   "cell_type": "code",
   "execution_count": null,
   "metadata": {},
   "outputs": [],
   "source": [
    "InitialTwoParts = [set(list(Gmain.nodes)[:50]), set(list(Gmain.nodes)[50:])]"
   ]
  },
  {
   "cell_type": "code",
   "execution_count": null,
   "metadata": {},
   "outputs": [],
   "source": [
    "TwoParts2 = community.kernighan_lin_bisection(Gmain, InitialTwoParts)\n",
    "coloring2 = [0 if x in TwoParts2[0] else 1 for x in Gmain.nodes]"
   ]
  },
  {
   "cell_type": "code",
   "execution_count": null,
   "metadata": {
    "scrolled": true
   },
   "outputs": [],
   "source": [
    "plot_graph(Gmain, coloring2)"
   ]
  },
  {
   "cell_type": "markdown",
   "metadata": {},
   "source": [
    "Хотелось выделить \"центральную компоненту\", но начальное распределение оказалось слишком размытым и не сошлось к чему-то более пристойному. Да и в целом алглоритм достаточно медленный порядка $O(n^3)$ для разреженных сетей и $O(n^4)$ для плотных.\n",
    "\n",
    "Рассмотрим альтернативный подход, который называется спектральное разделение.\n",
    "Для этого построим Лапласиан для графа: $L = D - A$, где $D$ диагональная матрица степеней вершин, а $A$ -- матрица смежности.\n",
    "\n"
   ]
  },
  {
   "cell_type": "code",
   "execution_count": null,
   "metadata": {},
   "outputs": [],
   "source": [
    "import numpy as np\n",
    "import numpy.linalg as la\n",
    "A = nx.adjacency_matrix(Gmain)\n",
    "D = np.diag(np.ravel(np.sum(A,axis=1)))\n",
    "L=D-A\n",
    "l, U = la.eigh(L)\n",
    "f = U[:,1]"
   ]
  },
  {
   "cell_type": "markdown",
   "metadata": {},
   "source": [
    "Мы только что нашли собственный вектор соотвествуйщий второму по величине собственному числу Лапласиана. При этом если нам нужно выделить компоненту фиксированного размера $n$, то мы возьмем вершины с наибольшим или наименьшим значением в собственном векторе. Если размер заранее не задан, то можно посмотреть на знак. "
   ]
  },
  {
   "cell_type": "code",
   "execution_count": null,
   "metadata": {},
   "outputs": [],
   "source": [
    "spectral_coloring = np.ravel(np.sign(f))"
   ]
  },
  {
   "cell_type": "code",
   "execution_count": null,
   "metadata": {
    "scrolled": true
   },
   "outputs": [],
   "source": [
    "plot_graph(Gmain, spectral_coloring)"
   ]
  },
  {
   "cell_type": "code",
   "execution_count": null,
   "metadata": {},
   "outputs": [],
   "source": [
    "plot_graph(Gmain, [sum([1 for y in np.ravel(f) if x>y]) for x in np.ravel(f)], plt.cm.hsv)"
   ]
  },
  {
   "cell_type": "markdown",
   "metadata": {},
   "source": [
    "Если, же нам нужно получить больше компонент, то рекомендуется использовать кластеризацию, например kmeans на значениях k собственных векторов, соответствующих наименьшим собственным числам, начиная со второго. На практике с этим иногда бывают проблеммы, так как в отдельные кластеры могут выделяться отдельные вершины, лежащие \"в стороне\"."
   ]
  },
  {
   "cell_type": "code",
   "execution_count": null,
   "metadata": {},
   "outputs": [],
   "source": [
    "import scipy.cluster.vq as vq\n",
    "k=3\n",
    "means, labels = vq.kmeans2(U[:,1:k], k)\n",
    "plot_graph(Gmain, labels)"
   ]
  },
  {
   "cell_type": "markdown",
   "metadata": {},
   "source": [
    "Раньше мы смотрели на разделение, но можно подойти и по другому. Давайте считать вершины лежащими в одной компоненте, если они принадлежжат одной клике заданного размера."
   ]
  },
  {
   "cell_type": "code",
   "execution_count": null,
   "metadata": {},
   "outputs": [],
   "source": [
    "clique_components = list(community.k_clique_communities(Gmain, 6))"
   ]
  },
  {
   "cell_type": "code",
   "execution_count": null,
   "metadata": {},
   "outputs": [],
   "source": [
    "def get_colors(G, comp):\n",
    "    d={}\n",
    "    c = 0\n",
    "    for i in comp:\n",
    "        c+=1\n",
    "        for v in i:\n",
    "            d[v]=c\n",
    "    res = []\n",
    "    for v in G.nodes:\n",
    "        if v in d: res.append(d[v])\n",
    "        else: res.append(0)\n",
    "    return(res)"
   ]
  },
  {
   "cell_type": "code",
   "execution_count": null,
   "metadata": {},
   "outputs": [],
   "source": [
    "clique_col = get_colors(Gmain, clique_components)"
   ]
  },
  {
   "cell_type": "code",
   "execution_count": null,
   "metadata": {},
   "outputs": [],
   "source": [
    "plot_graph(Gmain, clique_col)"
   ]
  },
  {
   "cell_type": "code",
   "execution_count": null,
   "metadata": {},
   "outputs": [],
   "source": []
  },
  {
   "cell_type": "markdown",
   "metadata": {},
   "source": [
    "Давайте подумаем про хорошее разделение на комьюнити. Базовая идея хочется что бы любая вершина в \"своей\" компоненте имела связей не меньше чем с чужой, ну или хотя бы в среднем было так.\n",
    "\n",
    "Определим модулярность, как $\\sum\\limits_i e_{ii} - a^2_i$, где $e_{ii}$ -- вероятность ребра лежать в компоненте $i$, а $a_i$ вероятность попасть в компоненту $i$ хотя бы одним ребром. \n",
    "\n",
    "Простейший алгоритм, реализуйте его:\n",
    "\n",
    "1. Начинаем с произвольного разделения на несколько компонент.\n",
    "2. Вычисляем улучшение модулярности при переносе каждой незаблокированной вершины в другой кластер.\n",
    "3. Находим максимальную выгоду. Переносим вершину и блокируем ее от дальнейшего переноса.\n",
    "4. Повторяем шаги 2-3 пока не исчезнут вершины улучшающие разделение.\n",
    "5. Выводим результат.\n",
    "\n",
    "Иногда имеет смысл разблокировать все вершины и повторить алгоритм."
   ]
  },
  {
   "cell_type": "code",
   "execution_count": null,
   "metadata": {},
   "outputs": [],
   "source": [
    "def greedy_modularity(G, Partitions):\n",
    "    #your code\n",
    "    return NewPartitions"
   ]
  },
  {
   "cell_type": "code",
   "execution_count": null,
   "metadata": {},
   "outputs": [],
   "source": []
  },
  {
   "cell_type": "markdown",
   "metadata": {},
   "source": [
    "Выделение комьюнити на основе выкидывания \"центральных ребер\".\n",
    "На прошлом занятии мы говорили про центральность по посреднечеству. Её можно считать не только для вершин, но и для ребер.\n",
    "Самые центральные ребра это те, через которые проходит наибольшее число путей. Давайте выкидывать самые популярные ребра и смотреть на компоненты связности.\n",
    "Такой алгоритм называется Girvan-Newman."
   ]
  },
  {
   "cell_type": "code",
   "execution_count": null,
   "metadata": {},
   "outputs": [],
   "source": [
    "gnc = community.girvan_newman(Gmain)"
   ]
  },
  {
   "cell_type": "markdown",
   "metadata": {},
   "source": [
    "Обратите внимание, что мы получили генератор. Реально выкидывание ребер будет происходить только, когда мы будем к нему обращаться. При этом каждый раз мы будем получать но одну больше компонент связности.  "
   ]
  },
  {
   "cell_type": "code",
   "execution_count": null,
   "metadata": {},
   "outputs": [],
   "source": [
    "gnc_set2 = next(gnc)\n",
    "gnc_color2 = get_colors(Gmain, gnc_set2)\n"
   ]
  },
  {
   "cell_type": "code",
   "execution_count": null,
   "metadata": {},
   "outputs": [],
   "source": [
    "plot_graph(Gmain, gnc_color2)"
   ]
  },
  {
   "cell_type": "code",
   "execution_count": null,
   "metadata": {},
   "outputs": [],
   "source": [
    "gnc_set3 = next(gnc)\n",
    "gnc_color3 = get_colors(Gmain, gnc_set3)\n"
   ]
  },
  {
   "cell_type": "code",
   "execution_count": null,
   "metadata": {},
   "outputs": [],
   "source": [
    "plot_graph(Gmain, gnc_color3)"
   ]
  },
  {
   "cell_type": "code",
   "execution_count": null,
   "metadata": {},
   "outputs": [],
   "source": []
  },
  {
   "cell_type": "markdown",
   "metadata": {},
   "source": [
    "И последний вариант который хотелось сегодня обсудить, это выделение комьюнити на основе кластеризации.\n",
    "\n",
    "Давайте определим похожесть вершин и применим алгоритм иерархической кластеризации. После чего будем менять порог и получать разные варианты разделения графа на комьюнити. Такой метод хорош тем, что позволяет использовать еще и дополнительную информацию про сами вершины, а не только граф. Реализуйте разбиение на комьюнити используя в качестве похожести косинус угла между строками матрицы смежности. Что изменится если использовать квадрат матрицы смежности?"
   ]
  }
 ],
 "metadata": {
  "kernelspec": {
   "display_name": "Python 3",
   "language": "python",
   "name": "python3"
  },
  "language_info": {
   "codemirror_mode": {
    "name": "ipython",
    "version": 3
   },
   "file_extension": ".py",
   "mimetype": "text/x-python",
   "name": "python",
   "nbconvert_exporter": "python",
   "pygments_lexer": "ipython3",
   "version": "3.7.4"
  }
 },
 "nbformat": 4,
 "nbformat_minor": 2
}
