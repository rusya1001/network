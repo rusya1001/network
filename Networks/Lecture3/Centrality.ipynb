{
 "cells": [
  {
   "cell_type": "markdown",
   "metadata": {},
   "source": [
    "Загрузите ваш граф. Я сохранил его в два JSON файла, но вы можете сделать это любым более удобным вам способом.\n",
    "Я добавил дополнительное поле с полом. Можете выгрузить любые дополнительные поля по желанию. "
   ]
  },
  {
   "cell_type": "code",
   "execution_count": null,
   "metadata": {},
   "outputs": [],
   "source": [
    "import json\n",
    "full_friends = json.load(open(\"nodes.txt\", \"tr\"))\n",
    "full_graph = json.load(open(\"edges.txt\", \"tr\"))\n",
    "import networkx as nx\n",
    "G = nx.Graph()\n",
    "for i in full_friends[\"items\"]:\n",
    "    G.add_node(i[\"id\"], name = i[\"first_name\"]+\" \"+i[\"last_name\"], sex = i[\"sex\"])\n",
    "my_friends = list(nx.nodes(G))\n",
    "for i in my_friends:\n",
    "    if \"items\" in full_graph[str(i)]:\n",
    "        for j in full_graph[str(i)][\"items\"]:\n",
    "            if j in my_friends:\n",
    "                G.add_edge(i, j)\n"
   ]
  },
  {
   "cell_type": "code",
   "execution_count": null,
   "metadata": {},
   "outputs": [],
   "source": []
  },
  {
   "cell_type": "markdown",
   "metadata": {},
   "source": [
    "Вариант отрисовки графа с дополнительными свойставми. Можно поиграть с разными параметрами. XKCD доваляет приятные мне эффекты, но не обязателен."
   ]
  },
  {
   "cell_type": "code",
   "execution_count": null,
   "metadata": {},
   "outputs": [],
   "source": [
    "%matplotlib inline\n",
    "import matplotlib.pyplot as plt\n",
    "def plot_graph(g):\n",
    "    with plt.xkcd():\n",
    "        k = nx.degree(g)\n",
    "        plt.figure(1, figsize=(60,45))\n",
    "        coord = nx.kamada_kawai_layout(g)\n",
    "#        coord = nx.spring_layout(g)\n",
    "#        coord = nx.circular_layout(g)\n",
    "        labels={nd: g.node[nd]['name'] for (nd) in g.nodes()}\n",
    "        nx.draw_networkx(g, pos=coord, nodelist=dict(k).keys(), node_size=[v*50 for v in dict(k).values()], \n",
    "                         font_size=17, node_color=list(dict(k).values()), labels=labels, cmap=plt.cm.Blues)"
   ]
  },
  {
   "cell_type": "code",
   "execution_count": null,
   "metadata": {},
   "outputs": [],
   "source": [
    "plot_graph(G)"
   ]
  },
  {
   "cell_type": "markdown",
   "metadata": {},
   "source": [
    "Поговорим о мерах центральности."
   ]
  },
  {
   "cell_type": "code",
   "execution_count": null,
   "metadata": {},
   "outputs": [],
   "source": [
    "deg = nx.degree(G)\n",
    "sorted_by_degree = sorted(deg, key=lambda item: (-item[1], item[0]))"
   ]
  },
  {
   "cell_type": "code",
   "execution_count": null,
   "metadata": {},
   "outputs": [],
   "source": [
    "for i in sorted_by_degree[:10]:\n",
    "    print(nx.get_node_attributes(G, \"name\")[i[0]], i[1])"
   ]
  },
  {
   "cell_type": "code",
   "execution_count": null,
   "metadata": {},
   "outputs": [],
   "source": [
    "subG = G.subgraph([n for n in G.neighbors(sorted_by_degree[0][0])])"
   ]
  },
  {
   "cell_type": "code",
   "execution_count": null,
   "metadata": {},
   "outputs": [],
   "source": [
    "plot_graph(subG)"
   ]
  },
  {
   "cell_type": "code",
   "execution_count": null,
   "metadata": {},
   "outputs": [],
   "source": [
    "nx.degree_centrality(G)"
   ]
  },
  {
   "cell_type": "markdown",
   "metadata": {},
   "source": [
    "Поймите, как центральность по степени вершины соотносится со степенью вершины."
   ]
  },
  {
   "cell_type": "markdown",
   "metadata": {},
   "source": [
    "Рассмотрим определение центральности вершины, как взвешенную центральность соседей: $$x'_i = \\sum_{j} a_{ij}x_j$$ Если мы будем итереироваться, то мы сойдемся к одному из собственных векторов. Тогда можно определить центральность как $$x_i = \\frac{1}{\\lambda} \\sum_{j \\in N(i)}x_t = \\frac{1}{\\lambda} \\sum_{j \\in G} a_{ij}x_j$$\n",
    "\n",
    "Другое название такой меры -- степень влиятельности."
   ]
  },
  {
   "cell_type": "code",
   "execution_count": null,
   "metadata": {},
   "outputs": [],
   "source": [
    "ec = nx.eigenvector_centrality(G) \n",
    "sorted_by_ec = sorted(ec.items(), key=lambda item: (-item[1], item[0]))"
   ]
  },
  {
   "cell_type": "code",
   "execution_count": null,
   "metadata": {},
   "outputs": [],
   "source": [
    "for i in sorted_by_ec[:20]:\n",
    "    print(nx.get_node_attributes(G, \"name\")[i[0]], i[1])"
   ]
  },
  {
   "cell_type": "code",
   "execution_count": null,
   "metadata": {
    "scrolled": true
   },
   "outputs": [],
   "source": [
    "with plt.xkcd():\n",
    "        k = ec\n",
    "        plt.figure(1, figsize=(60,45))\n",
    "        coord = nx.kamada_kawai_layout(G)\n",
    "#        coord = nx.spring_layout(g)\n",
    "#        coord = nx.circular_layout(g)\n",
    "        labels={nd: G.node[nd]['name'] for (nd) in G.nodes()}\n",
    "        nx.draw_networkx(G, pos=coord, nodelist=dict(k).keys(), node_size=[v*30000 for v in dict(k).values()], \n",
    "                         font_size=17, node_color=list(dict(k).values()), labels=labels, cmap=plt.cm.hot)"
   ]
  },
  {
   "cell_type": "code",
   "execution_count": null,
   "metadata": {},
   "outputs": [],
   "source": [
    "Stange_directed_network = nx.DiGraph()\n",
    "Stange_directed_network.add_edges_from([(1, 2), (1, 3), (1, 4), (2, 3), (2, 5), (3, 6), (5, 4)])\n",
    "#nx.set_node_attributes(Stange_directed_network, [1, 2, 3, 4, 5, 6], \"name\")\n",
    "\n",
    "nx.draw_networkx(Stange_directed_network)\n",
    "\n",
    "\n",
    "\n"
   ]
  },
  {
   "cell_type": "code",
   "execution_count": null,
   "metadata": {},
   "outputs": [],
   "source": [
    "#nx.eigenvector_centrality(Stange_directed_network) \n",
    "nx.eigenvector_centrality(Stange_directed_network, max_iter=10000) "
   ]
  },
  {
   "cell_type": "markdown",
   "metadata": {},
   "source": [
    "Центральность по Кацу.\n",
    "$$x_i = \\sum_{k=1}^{\\infty}\\sum_{j=1}^N \\alpha^k (A^k)_{ji}$$\n",
    "\n",
    "где $\\alpha$ дисконт за расстояние в диапазоне $(0,1)$.\n",
    "\n",
    "Или в альтернативной форме: \n",
    "\n",
    "$$x_i = \\alpha \\sum_{j =1}^N a_{ij}(x_j+1).$$\n",
    "\n",
    "Или немного в другой форме:\n",
    "$$x_i = \\alpha \\sum_{j =1}^N a_{ij}x_j+\\beta_i.$$"
   ]
  },
  {
   "cell_type": "code",
   "execution_count": null,
   "metadata": {},
   "outputs": [],
   "source": [
    "nx.katz_centrality(Stange_directed_network, 0.9, max_iter = 1000) "
   ]
  },
  {
   "cell_type": "code",
   "execution_count": null,
   "metadata": {},
   "outputs": [],
   "source": [
    "kc = nx.katz_centrality(G, 0.02, max_iter = 1000) \n",
    "sorted_by_kc = sorted(kc.items(), key=lambda item: (-item[1], item[0]))"
   ]
  },
  {
   "cell_type": "code",
   "execution_count": null,
   "metadata": {
    "scrolled": true
   },
   "outputs": [],
   "source": [
    "for i in sorted_by_kc[:20]:\n",
    "    print(nx.get_node_attributes(G, \"name\")[i[0]], i[1])"
   ]
  },
  {
   "cell_type": "markdown",
   "metadata": {},
   "source": [
    "PageRank:\n",
    "    $$x_i = \\alpha \\sum_{j } a_{ji}\\frac{x_j}{d^{out}_j} + \\frac{1-\\alpha}{N}$$"
   ]
  },
  {
   "cell_type": "code",
   "execution_count": null,
   "metadata": {},
   "outputs": [],
   "source": [
    "pr = nx.pagerank(G)\n",
    "sorted_by_pr = sorted(pr.items(), key=lambda item: (-item[1], item[0]))\n",
    "for i in sorted_by_pr[:15]:\n",
    "    print(nx.get_node_attributes(G, \"name\")[i[0]], i[1])"
   ]
  },
  {
   "cell_type": "code",
   "execution_count": null,
   "metadata": {},
   "outputs": [],
   "source": []
  },
  {
   "cell_type": "markdown",
   "metadata": {},
   "source": [
    "Центральность по близости обратно пропорциональна среднему расстоянию: $$C(x)= \\frac{1}{\\sum_y d(y,x)}$$ А что будет в несвязном графе?  "
   ]
  },
  {
   "cell_type": "code",
   "execution_count": null,
   "metadata": {},
   "outputs": [],
   "source": [
    "cc = nx.closeness_centrality(G) \n",
    "sorted_by_cc = sorted(cc.items(), key=lambda item: (-item[1], item[0]))\n",
    "for i in sorted_by_cc[:20]:\n",
    "    print(nx.get_node_attributes(G, \"name\")[i[0]], i[1])\n"
   ]
  },
  {
   "cell_type": "code",
   "execution_count": null,
   "metadata": {},
   "outputs": [],
   "source": [
    "for i in sorted_by_cc[-30:]:\n",
    "    print(nx.get_node_attributes(G, \"name\")[i[0]], i[1], deg[i[0]])\n"
   ]
  },
  {
   "cell_type": "markdown",
   "metadata": {},
   "source": [
    "Центральность по посреднечеству характеризует долю кратчайших путей проходящих через данную вершину. Ожидается высокая у мостов. $$g(v)= \\sum_{s \\neq v \\neq t}\\frac{\\sigma_{st}(v)}{\\sigma_{st}},$$ где $\\sigma_{st}$ -- число кратчайших путей между $s$ и $t$, $\\sigma_{st}(v)$ -- число таких путей проходящих через $v$."
   ]
  },
  {
   "cell_type": "code",
   "execution_count": null,
   "metadata": {},
   "outputs": [],
   "source": [
    "bc = nx.betweenness_centrality(G) \n",
    "sorted_by_bc = sorted(bc.items(), key=lambda item: (-item[1], item[0]))\n",
    "for i in sorted_by_bc[:20]:\n",
    "    print(nx.get_node_attributes(G, \"name\")[i[0]], i[1])"
   ]
  },
  {
   "cell_type": "markdown",
   "metadata": {},
   "source": [
    "Теперь, давайте одним глазком посмотрим немного в будущее. Поговорим о похожести."
   ]
  },
  {
   "cell_type": "code",
   "execution_count": null,
   "metadata": {},
   "outputs": [],
   "source": [
    "nx.degree_assortativity_coefficient(G)"
   ]
  },
  {
   "cell_type": "code",
   "execution_count": null,
   "metadata": {},
   "outputs": [],
   "source": [
    "nx.attribute_assortativity_coefficient(G, \"sex\")"
   ]
  },
  {
   "cell_type": "code",
   "execution_count": null,
   "metadata": {},
   "outputs": [],
   "source": [
    "sum([i==2 for i in nx.get_node_attributes(G, \"sex\").values()])"
   ]
  },
  {
   "cell_type": "code",
   "execution_count": null,
   "metadata": {},
   "outputs": [],
   "source": [
    "sum([i==1 for i in nx.get_node_attributes(G, \"sex\").values()])"
   ]
  },
  {
   "cell_type": "code",
   "execution_count": null,
   "metadata": {},
   "outputs": [],
   "source": [
    "sex_variation = {}\n",
    "sex = nx.get_node_attributes(G, \"sex\")\n",
    "for pers in G.nodes():\n",
    "    ngb = list(G.neighbors(pers))\n",
    "    sex_variation[pers] = list([sum([sex[i]==1 for i in ngb]),sum([sex[i]==2 for i in ngb])]) \n",
    "    "
   ]
  },
  {
   "cell_type": "code",
   "execution_count": null,
   "metadata": {},
   "outputs": [],
   "source": [
    "a,b = 0.1,0.1 \n",
    "sorted_by_sex_pref = sorted(sex_variation.items(), key=lambda item: (-abs((item[1][0]+a)/(item[1][0]+item[1][1]+a+b)-0.5), item[0]))\n",
    "for i in sorted_by_sex_pref[:20]:\n",
    "    print(nx.get_node_attributes(G, \"name\")[i[0]], i[1])"
   ]
  },
  {
   "cell_type": "code",
   "execution_count": null,
   "metadata": {},
   "outputs": [],
   "source": [
    "(sum(sex.values())-len(sex))/len(sex)"
   ]
  },
  {
   "cell_type": "code",
   "execution_count": null,
   "metadata": {},
   "outputs": [],
   "source": [
    "l = [list(G.neighbors(i[0])) for i in G.nodes(data='name') if i[1]==\"Анастасия Шишкова\"]\n",
    "[i for i in G.nodes(data='name') if i[0] in l[0]]"
   ]
  }
 ],
 "metadata": {
  "kernelspec": {
   "display_name": "Python 3",
   "language": "python",
   "name": "python3"
  },
  "language_info": {
   "codemirror_mode": {
    "name": "ipython",
    "version": 3
   },
   "file_extension": ".py",
   "mimetype": "text/x-python",
   "name": "python",
   "nbconvert_exporter": "python",
   "pygments_lexer": "ipython3",
   "version": "3.7.4"
  }
 },
 "nbformat": 4,
 "nbformat_minor": 2
}
