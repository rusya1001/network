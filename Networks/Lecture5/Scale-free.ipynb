{
 "cells": [
  {
   "cell_type": "markdown",
   "metadata": {},
   "source": [
    "Сегодня мы поговорим еще раз про разные структуры графов. Подчиняются ли реальные графы каким либо законам?\n",
    "\n",
    "Начнем традиционно с загрузки."
   ]
  },
  {
   "cell_type": "code",
   "execution_count": null,
   "metadata": {},
   "outputs": [],
   "source": [
    "import json\n",
    "full_friends = json.load(open(\"nodes.txt\", \"tr\"))\n",
    "full_graph = json.load(open(\"edges.txt\", \"tr\"))\n",
    "import networkx as nx\n",
    "G = nx.Graph()\n",
    "for i in full_friends[\"items\"]:\n",
    "    G.add_node(i[\"id\"], name = i[\"first_name\"]+\" \"+i[\"last_name\"], sex = i[\"sex\"])\n",
    "my_friends = list(nx.nodes(G))\n",
    "for i in my_friends:\n",
    "    if \"items\" in full_graph[str(i)]:\n",
    "        for j in full_graph[str(i)][\"items\"]:\n",
    "            if j in my_friends:\n",
    "                G.add_edge(i, j)\n",
    "                \n"
   ]
  },
  {
   "cell_type": "markdown",
   "metadata": {},
   "source": [
    "Посмотрим на распределение степеней в моем графе:"
   ]
  },
  {
   "cell_type": "code",
   "execution_count": null,
   "metadata": {},
   "outputs": [],
   "source": [
    "%matplotlib inline\n",
    "import numpy as np\n",
    "import matplotlib.pyplot as plt\n",
    "import collections\n",
    "from scipy.special import factorial, zeta\n",
    "\n",
    "\n",
    "\n",
    "degree_sequence = sorted([d for n, d in G.degree()], reverse=True)  # degree sequence\n",
    "mean_degree = np.mean(degree_sequence)\n",
    "cnt = len(degree_sequence)\n",
    "t = np.arange(1, 130, 1)\n",
    "poiss = cnt*np.exp(-mean_degree)*np.power(mean_degree, t)/factorial(t)\n",
    "l=2.0\n",
    "power = cnt*np.power(t, -l)/zeta(l)\n",
    "\n",
    "\n",
    "degreeCount = collections.Counter(degree_sequence)\n",
    "deg, cnt = zip(*degreeCount.items())\n",
    "plt.plot(deg, cnt, \"ro\")\n",
    "plt.plot(deg, cnt)\n",
    "plt.plot(t,poiss)\n",
    "plt.plot(t[1:], power[1:])\n"
   ]
  },
  {
   "cell_type": "code",
   "execution_count": null,
   "metadata": {},
   "outputs": [],
   "source": [
    "from math import log\n",
    "deg_l = [log(x+1) for x in deg]\n",
    "cnt_l = [log(x) for x in cnt]\n",
    "\n",
    "poiss_l = [log(x) for x in poiss]\n",
    "power_l = [log(x) for x in power]\n",
    "t_l = [log(x) for x in t]\n",
    "\n",
    "\n",
    "plt.plot(deg_l, cnt_l, \"ro\")\n",
    "plt.plot(deg_l, cnt_l)\n",
    "plt.plot(t_l[:40], poiss_l[:40])\n",
    "plt.plot(t_l, power_l)"
   ]
  },
  {
   "cell_type": "markdown",
   "metadata": {},
   "source": [
    "И так мы видим, что наше распределение не совсем пуассоновское, как следовало бы ожидать при случайном графе. Но при этом мы не видим и так называемого Power Law. Power law это предположение что распределение степеней вершин пропорционально $k^{-\\lambda}$.\n",
    "\n",
    "Вместе с тем, глядя на логарифмический график, мы хорошо видим, что крупные хабы очень сильно выбиваются из пуассоновского распределения, и немного меньше из Power law.\n",
    "\n",
    "Например, для графа описывающего фрагмент интернета мы вмдим следующую картинку:![](http://networksciencebook.com/images/ch-04/figure-4-2.jpg)\n",
    "\n",
    "\n"
   ]
  },
  {
   "cell_type": "markdown",
   "metadata": {},
   "source": [
    "Собственно степенной закон встречается не только в больших графах. Классическим примером степенного закона является принцип Парето. В качестве развлечения попробуйте найти статистику по доходам россиян и посмотреть на ее распределение."
   ]
  },
  {
   "cell_type": "markdown",
   "metadata": {},
   "source": [
    "Графы распределение вершин в которых ведет себя как степенное распределение мы будем называть scale-free? d heccrjv bcgjkmpe.n вариант безмасштабная сеть или масштабно-инвариантная сеть."
   ]
  },
  {
   "cell_type": "markdown",
   "metadata": {},
   "source": [
    "Главная особенность степенного распределения заключается в том, что при $\\lambda < 3$ дисперсия становится бесконечной, а это приводит к возможности <<черных лебедей>>. То есть существование ютуб канала T-Series с 160+ млн. подписчиков или PewDiePie c 107 это вполне соответствует модели."
   ]
  },
  {
   "cell_type": "markdown",
   "metadata": {},
   "source": [
    "Возьмем еще пример случаного графа из кники Барабаси: ![](http://networksciencebook.com/images/ch-04/figure-4-4.jpg)"
   ]
  },
  {
   "cell_type": "code",
   "execution_count": null,
   "metadata": {},
   "outputs": [],
   "source": [
    "                \n",
    "def plot_graph(g, coloring = [], palette = plt.cm.Set2):\n",
    "    with plt.xkcd():\n",
    "        k = nx.degree(g)\n",
    "#        print(k)\n",
    "        plt.figure(1, figsize=(30,20))\n",
    "        coord = nx.kamada_kawai_layout(g)\n",
    "#        labels={nd: g.node[nd]['name'] for (nd) in g.nodes()}\n",
    "        if len(coloring)>0:\n",
    "            nx.draw_networkx(g, pos=coord, nodelist=[x[0] for x in k], node_size=[v[1]*50 for v in k], \n",
    "                         font_size=17, node_color=coloring, cmap=palette)\n",
    "        else:\n",
    "            nx.draw_networkx(g, pos=coord, nodelist=[x[0] for x in k], node_size=[v[1]*50 for v in k], \n",
    "                         font_size=17)"
   ]
  },
  {
   "cell_type": "code",
   "execution_count": null,
   "metadata": {},
   "outputs": [],
   "source": [
    "G_sf = nx.scale_free_graph(len(nx.nodes(G)))\n",
    "plot_graph(G_sf)"
   ]
  },
  {
   "cell_type": "code",
   "execution_count": null,
   "metadata": {},
   "outputs": [],
   "source": [
    "degree_sequence = sorted([d for n, d in G_sf.degree()], reverse=True)  # degree sequence\n",
    "degreeCount = collections.Counter(degree_sequence)\n",
    "deg, cnt = zip(*degreeCount.items())\n",
    "plt.plot(deg, cnt, \"ro\")\n",
    "plt.plot(deg, cnt)\n",
    "plt.plot(t,poiss)\n",
    "plt.plot(t[1:], power[1:])\n"
   ]
  },
  {
   "cell_type": "code",
   "execution_count": null,
   "metadata": {},
   "outputs": [],
   "source": [
    "deg_l = [log(x+1) for x in deg]\n",
    "cnt_l = [log(x) for x in cnt]\n",
    "\n",
    "poiss_l = [log(x) for x in poiss]\n",
    "power_l = [log(x) for x in power]\n",
    "t_l = [log(x) for x in t]\n",
    "\n",
    "\n",
    "plt.plot(deg_l, cnt_l, \"ro\")\n",
    "plt.plot(deg_l, cnt_l)\n",
    "plt.plot(t_l[:40], poiss_l[:40])\n",
    "plt.plot(t_l, power_l)"
   ]
  },
  {
   "cell_type": "markdown",
   "metadata": {},
   "source": [
    "Одна из больших проблем, с которой мы сталкиваемся в случае scale-free сетей, это очень большой разброс степеней. И если по небольшому фрагменту сети подчиняющейся пуассоновскому распределению, мы понимаем что в ней может быть, а чего нет, то в scale-free это не так.  \n",
    "\n",
    "![](http://networksciencebook.com/images/ch-04/figure-4-8.jpg)"
   ]
  },
  {
   "cell_type": "markdown",
   "metadata": {},
   "source": [
    "Существование крупных хабов приводит к тому, что среднее расстояние в таких сетях существенно сокращаются.\n",
    "\n",
    "![](http://networksciencebook.com/images/ch-04/figure-4-12.jpg)"
   ]
  },
  {
   "cell_type": "markdown",
   "metadata": {},
   "source": [
    "![](http://networksciencebook.com/images/ch-04/figure-box-4-5.jpg)"
   ]
  },
  {
   "cell_type": "markdown",
   "metadata": {},
   "source": [
    "Мы поговорили про особенности scale-free сетей. На самом деле сейчас периодически возникают споры, насколько все же реальные сети соответствуют степенному закону распределения степеней вершин. Но очень часто это оказывается достаточно хорошим и разумным предположением.\n",
    "\n",
    "Следует понимать, что часто эффект от такого предположения будет достигаться на достаточно больших сетях.\n"
   ]
  },
  {
   "cell_type": "markdown",
   "metadata": {},
   "source": [
    "В попытках объяснить формирование реальных scale-free сетей и объяснить наличие крупных хабов или центров притяжения была предпринята попытка изучить не только сам результат и текущее состояние сети, но и ее эволюцию. Почему сеть становится именно такой. Что к этому приводит?\n",
    "\n",
    "Одна из идей заключается в понимании, что в обычной случайной сети у ребра нет предпочтений. И у узла тоже нет. Ему все равно к чему присоединиться, лишь бы обеспечить себе необходимое число связей.\n",
    "\n",
    "Например, если у нас задано распределение степеней, то мы можем генерировать граф с заданным распределением по простой схеме. На каждом шаге выбираем две вершины (в некоторых моделях не обязательно разные) с вероятностью пропорциональной <<еще не обеспеченной степени вершины>>. \n",
    "\n",
    "Но что делать если мы не знаем истинных степеней вершин, но хотим обеспечить похожую генерацю графа? Ну мы можем предположить, что <<необеспеченная степень>> сравнима с уже собранной. То есть новые ребра (исходящие преимущественно из новых узлов) будут выбирать уже существующие узлы пропорционально их степени. Такой процесс называется *предпочтительное присоединение* (Preferential Attachment).\n",
    "\n",
    "Крупные хабы становятся <<известными>> и их известность привлекает новых соседей.\n",
    "\n",
    "\n",
    "А вот краткая история по версии Барабаси:\n",
    "![](http://networksciencebook.com/images/ch-05/figure-5-2.jpg)\n",
    "\n",
    "\n"
   ]
  },
  {
   "cell_type": "markdown",
   "metadata": {},
   "source": [
    "Формально: \n",
    "\n",
    "Путь уже есть сеть с $n$ узлами со степенями $k_i$.\n",
    "Тогда новый узел прикрепляется к $i$-тому узлу с вероятностью $\\frac{k_i}{\\sum k_i}$. В некоторых обобщениях узел может присоединяться и к самому себе и к узлам с которыми он уже соединен. Это происходит если число новых связей у новоого узла больше одной."
   ]
  },
  {
   "cell_type": "markdown",
   "metadata": {},
   "source": [
    "Ваша задача реализовать модель Барабаси-Альберт и посмотреть на распределение степеней вершин.\n"
   ]
  },
  {
   "cell_type": "code",
   "execution_count": null,
   "metadata": {},
   "outputs": [],
   "source": []
  }
 ],
 "metadata": {
  "kernelspec": {
   "display_name": "Python 3",
   "language": "python",
   "name": "python3"
  },
  "language_info": {
   "codemirror_mode": {
    "name": "ipython",
    "version": 3
   },
   "file_extension": ".py",
   "mimetype": "text/x-python",
   "name": "python",
   "nbconvert_exporter": "python",
   "pygments_lexer": "ipython3",
   "version": "3.7.4"
  }
 },
 "nbformat": 4,
 "nbformat_minor": 2
}
